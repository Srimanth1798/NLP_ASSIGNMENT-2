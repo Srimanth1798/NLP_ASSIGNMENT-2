{
  "nbformat": 4,
  "nbformat_minor": 0,
  "metadata": {
    "colab": {
      "name": "1117462_1dconv_reg.ipynb",
      "provenance": [],
      "toc_visible": true,
      "mount_file_id": "1jgJZI479j5zRfSXqvhGrRY796CHxv8Ue",
      "authorship_tag": "ABX9TyPuQxImkwbmza5o3ctj8wHA",
      "include_colab_link": true
    },
    "kernelspec": {
      "name": "python3",
      "display_name": "Python 3"
    },
    "accelerator": "GPU"
  },
  "cells": [
    {
      "cell_type": "markdown",
      "metadata": {
        "id": "view-in-github",
        "colab_type": "text"
      },
      "source": [
        "<a href=\"https://colab.research.google.com/github/Srimanth1798/NLP_ASSIGNMENT-2/blob/master/1117462_1dconv_reg.ipynb\" target=\"_parent\"><img src=\"https://colab.research.google.com/assets/colab-badge.svg\" alt=\"Open In Colab\"/></a>"
      ]
    },
    {
      "cell_type": "code",
      "metadata": {
        "id": "R3FFiO03Jqo5",
        "colab_type": "code",
        "outputId": "75232a2c-c10a-4f11-89d0-5b04fc93dafe",
        "colab": {
          "base_uri": "https://localhost:8080/",
          "height": 669
        }
      },
      "source": [
        "import pandas as pd\n",
        "from sklearn.model_selection import train_test_split\n",
        "import numpy as np\n",
        "\n",
        "url_tr=\"https://raw.githubusercontent.com/cacoderquan/Sentiment-Analysis-on-the-Rotten-Tomatoes-movie-review-dataset/master/train.tsv\"\n",
        "data=pd.read_csv(url_tr,sep='\\t')\n",
        "data.head(20)"
      ],
      "execution_count": 72,
      "outputs": [
        {
          "output_type": "execute_result",
          "data": {
            "text/html": [
              "<div>\n",
              "<style scoped>\n",
              "    .dataframe tbody tr th:only-of-type {\n",
              "        vertical-align: middle;\n",
              "    }\n",
              "\n",
              "    .dataframe tbody tr th {\n",
              "        vertical-align: top;\n",
              "    }\n",
              "\n",
              "    .dataframe thead th {\n",
              "        text-align: right;\n",
              "    }\n",
              "</style>\n",
              "<table border=\"1\" class=\"dataframe\">\n",
              "  <thead>\n",
              "    <tr style=\"text-align: right;\">\n",
              "      <th></th>\n",
              "      <th>PhraseId</th>\n",
              "      <th>SentenceId</th>\n",
              "      <th>Phrase</th>\n",
              "      <th>Sentiment</th>\n",
              "    </tr>\n",
              "  </thead>\n",
              "  <tbody>\n",
              "    <tr>\n",
              "      <th>0</th>\n",
              "      <td>1</td>\n",
              "      <td>1</td>\n",
              "      <td>A series of escapades demonstrating the adage ...</td>\n",
              "      <td>1</td>\n",
              "    </tr>\n",
              "    <tr>\n",
              "      <th>1</th>\n",
              "      <td>2</td>\n",
              "      <td>1</td>\n",
              "      <td>A series of escapades demonstrating the adage ...</td>\n",
              "      <td>2</td>\n",
              "    </tr>\n",
              "    <tr>\n",
              "      <th>2</th>\n",
              "      <td>3</td>\n",
              "      <td>1</td>\n",
              "      <td>A series</td>\n",
              "      <td>2</td>\n",
              "    </tr>\n",
              "    <tr>\n",
              "      <th>3</th>\n",
              "      <td>4</td>\n",
              "      <td>1</td>\n",
              "      <td>A</td>\n",
              "      <td>2</td>\n",
              "    </tr>\n",
              "    <tr>\n",
              "      <th>4</th>\n",
              "      <td>5</td>\n",
              "      <td>1</td>\n",
              "      <td>series</td>\n",
              "      <td>2</td>\n",
              "    </tr>\n",
              "    <tr>\n",
              "      <th>5</th>\n",
              "      <td>6</td>\n",
              "      <td>1</td>\n",
              "      <td>of escapades demonstrating the adage that what...</td>\n",
              "      <td>2</td>\n",
              "    </tr>\n",
              "    <tr>\n",
              "      <th>6</th>\n",
              "      <td>7</td>\n",
              "      <td>1</td>\n",
              "      <td>of</td>\n",
              "      <td>2</td>\n",
              "    </tr>\n",
              "    <tr>\n",
              "      <th>7</th>\n",
              "      <td>8</td>\n",
              "      <td>1</td>\n",
              "      <td>escapades demonstrating the adage that what is...</td>\n",
              "      <td>2</td>\n",
              "    </tr>\n",
              "    <tr>\n",
              "      <th>8</th>\n",
              "      <td>9</td>\n",
              "      <td>1</td>\n",
              "      <td>escapades</td>\n",
              "      <td>2</td>\n",
              "    </tr>\n",
              "    <tr>\n",
              "      <th>9</th>\n",
              "      <td>10</td>\n",
              "      <td>1</td>\n",
              "      <td>demonstrating the adage that what is good for ...</td>\n",
              "      <td>2</td>\n",
              "    </tr>\n",
              "    <tr>\n",
              "      <th>10</th>\n",
              "      <td>11</td>\n",
              "      <td>1</td>\n",
              "      <td>demonstrating the adage</td>\n",
              "      <td>2</td>\n",
              "    </tr>\n",
              "    <tr>\n",
              "      <th>11</th>\n",
              "      <td>12</td>\n",
              "      <td>1</td>\n",
              "      <td>demonstrating</td>\n",
              "      <td>2</td>\n",
              "    </tr>\n",
              "    <tr>\n",
              "      <th>12</th>\n",
              "      <td>13</td>\n",
              "      <td>1</td>\n",
              "      <td>the adage</td>\n",
              "      <td>2</td>\n",
              "    </tr>\n",
              "    <tr>\n",
              "      <th>13</th>\n",
              "      <td>14</td>\n",
              "      <td>1</td>\n",
              "      <td>the</td>\n",
              "      <td>2</td>\n",
              "    </tr>\n",
              "    <tr>\n",
              "      <th>14</th>\n",
              "      <td>15</td>\n",
              "      <td>1</td>\n",
              "      <td>adage</td>\n",
              "      <td>2</td>\n",
              "    </tr>\n",
              "    <tr>\n",
              "      <th>15</th>\n",
              "      <td>16</td>\n",
              "      <td>1</td>\n",
              "      <td>that what is good for the goose</td>\n",
              "      <td>2</td>\n",
              "    </tr>\n",
              "    <tr>\n",
              "      <th>16</th>\n",
              "      <td>17</td>\n",
              "      <td>1</td>\n",
              "      <td>that</td>\n",
              "      <td>2</td>\n",
              "    </tr>\n",
              "    <tr>\n",
              "      <th>17</th>\n",
              "      <td>18</td>\n",
              "      <td>1</td>\n",
              "      <td>what is good for the goose</td>\n",
              "      <td>2</td>\n",
              "    </tr>\n",
              "    <tr>\n",
              "      <th>18</th>\n",
              "      <td>19</td>\n",
              "      <td>1</td>\n",
              "      <td>what</td>\n",
              "      <td>2</td>\n",
              "    </tr>\n",
              "    <tr>\n",
              "      <th>19</th>\n",
              "      <td>20</td>\n",
              "      <td>1</td>\n",
              "      <td>is good for the goose</td>\n",
              "      <td>2</td>\n",
              "    </tr>\n",
              "  </tbody>\n",
              "</table>\n",
              "</div>"
            ],
            "text/plain": [
              "    PhraseId  ...  Sentiment\n",
              "0          1  ...          1\n",
              "1          2  ...          2\n",
              "2          3  ...          2\n",
              "3          4  ...          2\n",
              "4          5  ...          2\n",
              "5          6  ...          2\n",
              "6          7  ...          2\n",
              "7          8  ...          2\n",
              "8          9  ...          2\n",
              "9         10  ...          2\n",
              "10        11  ...          2\n",
              "11        12  ...          2\n",
              "12        13  ...          2\n",
              "13        14  ...          2\n",
              "14        15  ...          2\n",
              "15        16  ...          2\n",
              "16        17  ...          2\n",
              "17        18  ...          2\n",
              "18        19  ...          2\n",
              "19        20  ...          2\n",
              "\n",
              "[20 rows x 4 columns]"
            ]
          },
          "metadata": {
            "tags": []
          },
          "execution_count": 72
        }
      ]
    },
    {
      "cell_type": "code",
      "metadata": {
        "id": "J8aLCjkXTwx4",
        "colab_type": "code",
        "colab": {}
      },
      "source": [
        "numSentences = data['SentenceId'].max()"
      ],
      "execution_count": 0,
      "outputs": []
    },
    {
      "cell_type": "code",
      "metadata": {
        "id": "tdU-8JXHT2S-",
        "colab_type": "code",
        "colab": {}
      },
      "source": [
        "fullSentences = []\n",
        "curSentence = 0\n",
        "for i in range(data.shape[0]):\n",
        "  if data['SentenceId'][i]> curSentence:\n",
        "    fullSentences.append((data['Phrase'][i], data['Sentiment'][i]))\n",
        "    curSentence = curSentence +1"
      ],
      "execution_count": 0,
      "outputs": []
    },
    {
      "cell_type": "code",
      "metadata": {
        "id": "dS2zqSc9T79L",
        "colab_type": "code",
        "outputId": "7d4e2597-7dc2-4f19-8d1c-2741b6de7566",
        "colab": {
          "base_uri": "https://localhost:8080/",
          "height": 34
        }
      },
      "source": [
        "len(fullSentences)"
      ],
      "execution_count": 75,
      "outputs": [
        {
          "output_type": "execute_result",
          "data": {
            "text/plain": [
              "8544"
            ]
          },
          "metadata": {
            "tags": []
          },
          "execution_count": 75
        }
      ]
    },
    {
      "cell_type": "code",
      "metadata": {
        "id": "feV1S9q9T923",
        "colab_type": "code",
        "colab": {}
      },
      "source": [
        "fullSentDf = pd.DataFrame(fullSentences,\n",
        "                                columns=['Phrase', 'Sentiment'])"
      ],
      "execution_count": 0,
      "outputs": []
    },
    {
      "cell_type": "code",
      "metadata": {
        "id": "UXh_K0KRUCoK",
        "colab_type": "code",
        "outputId": "6c0984d8-c50a-4ab2-a107-9aeb94841736",
        "colab": {
          "base_uri": "https://localhost:8080/",
          "height": 119
        }
      },
      "source": [
        "data['Sentiment'].value_counts()"
      ],
      "execution_count": 6,
      "outputs": [
        {
          "output_type": "execute_result",
          "data": {
            "text/plain": [
              "2    79582\n",
              "3    32927\n",
              "1    27273\n",
              "4     9206\n",
              "0     7072\n",
              "Name: Sentiment, dtype: int64"
            ]
          },
          "metadata": {
            "tags": []
          },
          "execution_count": 6
        }
      ]
    },
    {
      "cell_type": "code",
      "metadata": {
        "id": "aozzFiUaUG5v",
        "colab_type": "code",
        "outputId": "db8a7003-c67d-43a5-ccc1-46d3d8d990b3",
        "colab": {
          "base_uri": "https://localhost:8080/",
          "height": 119
        }
      },
      "source": [
        "fullSentDf['Sentiment'].value_counts()"
      ],
      "execution_count": 76,
      "outputs": [
        {
          "output_type": "execute_result",
          "data": {
            "text/plain": [
              "3    2325\n",
              "1    2203\n",
              "2    1659\n",
              "4    1282\n",
              "0    1075\n",
              "Name: Sentiment, dtype: int64"
            ]
          },
          "metadata": {
            "tags": []
          },
          "execution_count": 76
        }
      ]
    },
    {
      "cell_type": "code",
      "metadata": {
        "id": "ou9p43oMUKzZ",
        "colab_type": "code",
        "outputId": "7492a5f9-e33f-409d-b794-6228c2e9e2ad",
        "colab": {
          "base_uri": "https://localhost:8080/",
          "height": 119
        }
      },
      "source": [
        "import nltk\n",
        "import random\n",
        "nltk.download('punkt')\n",
        "nltk.download('stopwords')\n",
        "nltk.download('wordnet')\n",
        "from nltk.tokenize import word_tokenize"
      ],
      "execution_count": 77,
      "outputs": [
        {
          "output_type": "stream",
          "text": [
            "[nltk_data] Downloading package punkt to /root/nltk_data...\n",
            "[nltk_data]   Package punkt is already up-to-date!\n",
            "[nltk_data] Downloading package stopwords to /root/nltk_data...\n",
            "[nltk_data]   Package stopwords is already up-to-date!\n",
            "[nltk_data] Downloading package wordnet to /root/nltk_data...\n",
            "[nltk_data]   Package wordnet is already up-to-date!\n"
          ],
          "name": "stdout"
        }
      ]
    },
    {
      "cell_type": "code",
      "metadata": {
        "id": "TcQKGN2jUX1G",
        "colab_type": "code",
        "colab": {}
      },
      "source": [
        "documents = []\n",
        "for i in range(fullSentDf.shape[0]):\n",
        "  tmpWords = word_tokenize(fullSentDf['Phrase'][i])\n",
        "  documents.append((tmpWords, fullSentDf['Sentiment'][i]))"
      ],
      "execution_count": 0,
      "outputs": []
    },
    {
      "cell_type": "code",
      "metadata": {
        "id": "hrbQM_dyUmpM",
        "colab_type": "code",
        "outputId": "9e848d52-8fe9-4f74-836c-bced04128f10",
        "colab": {
          "base_uri": "https://localhost:8080/",
          "height": 54
        }
      },
      "source": [
        "random.seed(9001)\n",
        "random.shuffle(documents)\n",
        "print(documents[1][0])"
      ],
      "execution_count": 79,
      "outputs": [
        {
          "output_type": "stream",
          "text": [
            "['For', 'its', '100', 'minutes', 'running', 'time', ',', 'you', \"'ll\", 'wait', 'in', 'vain', 'for', 'a', 'movie', 'to', 'happen', '.']\n"
          ],
          "name": "stdout"
        }
      ]
    },
    {
      "cell_type": "code",
      "metadata": {
        "id": "fLAjnSxwUq4f",
        "colab_type": "code",
        "outputId": "20c8bde4-e18f-42c8-ab90-b5a06c935989",
        "colab": {
          "base_uri": "https://localhost:8080/",
          "height": 34
        }
      },
      "source": [
        "len(documents)"
      ],
      "execution_count": 80,
      "outputs": [
        {
          "output_type": "execute_result",
          "data": {
            "text/plain": [
              "8544"
            ]
          },
          "metadata": {
            "tags": []
          },
          "execution_count": 80
        }
      ]
    },
    {
      "cell_type": "code",
      "metadata": {
        "id": "sbtYSBJeUxzO",
        "colab_type": "code",
        "outputId": "3c91c692-f7a7-4577-aad3-42927c78fad0",
        "colab": {
          "base_uri": "https://localhost:8080/",
          "height": 34
        }
      },
      "source": [
        "from nltk.corpus import stopwords\n",
        "from nltk.stem import WordNetLemmatizer, PorterStemmer, LancasterStemmer\n",
        "porter = PorterStemmer()\n",
        "lancaster=LancasterStemmer()\n",
        "wordnet_lemmatizer = WordNetLemmatizer()\n",
        "stopwords_en = stopwords.words(\"english\")\n",
        "punctuations=\"?:!.,;'\\\"-()\"\n",
        "\n",
        "remove_stopwords = True\n",
        "useStemming = True\n",
        "useLemma = False\n",
        "removePuncs = True\n",
        "\n",
        "for l in range(len(documents)):\n",
        "  label = documents[l][1]\n",
        "  tmpReview = []\n",
        "  for w in documents[l][0]:\n",
        "    newWord = w\n",
        "    if remove_stopwords and (w in stopwords_en):\n",
        "      continue\n",
        "    if removePuncs and (w in punctuations):\n",
        "      continue\n",
        "    if useStemming:\n",
        "      newWord = lancaster.stem(newWord)\n",
        "    if useLemma:\n",
        "      newWord = wordnet_lemmatizer.lemmatize(newWord)\n",
        "    tmpReview.append(newWord)\n",
        "  documents[l] = (' '.join(tmpReview), label)\n",
        "print(documents[2])"
      ],
      "execution_count": 81,
      "outputs": [
        {
          "output_type": "stream",
          "text": [
            "('ian holm conqu frant earthy napoleon', 3)\n"
          ],
          "name": "stdout"
        }
      ]
    },
    {
      "cell_type": "code",
      "metadata": {
        "id": "TgWpneWYU_2h",
        "colab_type": "code",
        "colab": {}
      },
      "source": [
        "all_data = pd.DataFrame(documents,\n",
        "                                columns=['text', 'sentiment'])\n",
        "\n",
        "x_train_raw, x_test_raw, y_train_raw, y_test_raw = train_test_split(all_data['text'], all_data['sentiment'], test_size=0.3)"
      ],
      "execution_count": 0,
      "outputs": []
    },
    {
      "cell_type": "code",
      "metadata": {
        "id": "F94t7omEVG2g",
        "colab_type": "code",
        "outputId": "d6f295d0-d35b-4057-b478-dcaa55f2d1b2",
        "colab": {
          "base_uri": "https://localhost:8080/",
          "height": 34
        }
      },
      "source": [
        "len(x_train_raw)"
      ],
      "execution_count": 83,
      "outputs": [
        {
          "output_type": "execute_result",
          "data": {
            "text/plain": [
              "5980"
            ]
          },
          "metadata": {
            "tags": []
          },
          "execution_count": 83
        }
      ]
    },
    {
      "cell_type": "code",
      "metadata": {
        "id": "fyfD_OazVO5M",
        "colab_type": "code",
        "colab": {}
      },
      "source": [
        "from sklearn.feature_extraction.text import TfidfVectorizer\n",
        "from sklearn.feature_extraction.text import CountVectorizer\n",
        "vectorizer = CountVectorizer(stop_words=\"english\",\n",
        "                             ngram_range=(1, 2))\n",
        "#vectorizer = TfidfVectorizer(stop_words=\"english\",\n",
        "#                             ngram_range=(1, 1))\n",
        "#X = vectorizer.fit_transform(all_data[\"text\"])\n",
        "#Y = all_data['sentiment']\n",
        "x_train = vectorizer.fit_transform(x_train_raw)\n",
        "y_train = y_train_raw\n",
        "x_test = vectorizer.transform(x_test_raw)\n",
        "y_test = y_test_raw"
      ],
      "execution_count": 0,
      "outputs": []
    },
    {
      "cell_type": "code",
      "metadata": {
        "id": "OYD2IiOcVYxm",
        "colab_type": "code",
        "colab": {}
      },
      "source": [
        "x_train_np = x_train.toarray()\n",
        "y_train_np = np.array(y_train)\n",
        "\n",
        "# Convert the testing data\n",
        "x_test_np = x_test.toarray()\n",
        "y_test_np = np.array(y_test)"
      ],
      "execution_count": 0,
      "outputs": []
    },
    {
      "cell_type": "code",
      "metadata": {
        "id": "fK98eNG3VdKc",
        "colab_type": "code",
        "outputId": "f3333d0f-1007-4f19-ef95-be47f4650751",
        "colab": {
          "base_uri": "https://localhost:8080/",
          "height": 34
        }
      },
      "source": [
        "x_train_np.shape"
      ],
      "execution_count": 86,
      "outputs": [
        {
          "output_type": "execute_result",
          "data": {
            "text/plain": [
              "(5980, 50669)"
            ]
          },
          "metadata": {
            "tags": []
          },
          "execution_count": 86
        }
      ]
    },
    {
      "cell_type": "code",
      "metadata": {
        "id": "M3443tyjVmDd",
        "colab_type": "code",
        "colab": {}
      },
      "source": [
        "import torch\n",
        "torch.manual_seed(2020)\n",
        "\n",
        "# Import the 1D convolution layer\n",
        "# Since we’re inputting a 1-dimensional row of data, we can’t use 2D or 3D\n",
        "from torch.nn import Conv1d\n",
        "\n",
        "# Import the max pooling layer\n",
        "from torch.nn import MaxPool1d\n",
        "\n",
        "# Import the flatten layer\n",
        "from torch.nn import Flatten\n",
        "\n",
        "# Import the linear layer\n",
        "from torch.nn import Linear\n",
        "\n",
        "# Import the ReLU & Softmax activation function\n",
        "from torch.nn.functional import relu, softmax, sigmoid\n",
        "\n",
        "# Import the DataLoader and TensorDataset libraries from PyTorch\n",
        "# to work with our datasets\n",
        "from torch.utils.data import DataLoader, TensorDataset"
      ],
      "execution_count": 0,
      "outputs": []
    },
    {
      "cell_type": "code",
      "metadata": {
        "id": "-bSJodJvVpSv",
        "colab_type": "code",
        "colab": {}
      },
      "source": [
        "class CnnClassifier(torch.nn.Module):\n",
        "  # Define the initialization method\n",
        "  def __init__(self, batch_size, inputs, outputs):\n",
        "\n",
        "    # Initialize the superclass and store the parameters\n",
        "    super(CnnClassifier, self).__init__()\n",
        "    self.batch_size = batch_size\n",
        "    self.inputs = inputs\n",
        "    self.outputs = outputs\n",
        "\n",
        "    # Define the input layer\n",
        "    # (input channels, output channels, kernel size)\n",
        "    self.input_layer = Conv1d(inputs, batch_size, 1)\n",
        "\n",
        "    # Define a max pooling layer\n",
        "    # (kernel size)\n",
        "    self.max_pooling_layer = MaxPool1d(1)\n",
        "\n",
        "    # Define another convolution layer\n",
        "    self.conv_layer = Conv1d(batch_size, 128, 1)\n",
        "\n",
        "    # Define a flatten layer\n",
        "    self.flatten_layer = Flatten()\n",
        "\n",
        "    # Define a linear layer\n",
        "    # (inputs, outputs)\n",
        "    self.linear_layer = Linear(128, 64)\n",
        "\n",
        "    # Finally, define the output layer\n",
        "    self.output_layer = Linear(64, outputs)\n",
        "\n",
        "  # Define a method to feed inputs through the model\n",
        "  def feed(self, input):\n",
        "    # Reshape the entry so it can be fed to the input layer\n",
        "    # Although we’re using 1D convolution, it still expects a 3D array to \n",
        "    # process in a 1D fashion\n",
        "    input = input.reshape((self.batch_size, self.inputs, 1))\n",
        "\n",
        "    # Get the output of the first layer and run it through the\n",
        "    # the ReLU activation function\n",
        "    output = relu(self.input_layer(input))\n",
        "\n",
        "    # Get the output of the max pooling layer\n",
        "    output = self.max_pooling_layer(output)\n",
        "\n",
        "    # Get the output of the second convolution layer and run it\n",
        "    # through the ReLU activation function\n",
        "    output = relu(self.conv_layer(output))\n",
        "\n",
        "    # Get the output of the flatten layer\n",
        "    output = self.flatten_layer(output)\n",
        "\n",
        "    # Get the output of the linear layer and run it through the\n",
        "    # ReLU activation function\n",
        "    output = self.linear_layer(output)\n",
        "\n",
        "    # Finally, get the output of the output layer and return it\n",
        "    output = self.output_layer(output)\n",
        "    \n",
        "    #We use softmax for multi-class classification\n",
        "    output = softmax(output)\n",
        "   \n",
        "    return output"
      ],
      "execution_count": 0,
      "outputs": []
    },
    {
      "cell_type": "code",
      "metadata": {
        "id": "2n4PzHKJV0AY",
        "colab_type": "code",
        "colab": {}
      },
      "source": [
        "from torch.optim import SGD, Adam\n",
        "\n",
        "# Import the L1Loss (mean absolute error loss) package from pytorch for\n",
        "# our performance measure\n",
        "from torch.nn import L1Loss, CrossEntropyLoss\n"
      ],
      "execution_count": 0,
      "outputs": []
    },
    {
      "cell_type": "code",
      "metadata": {
        "id": "hJ-86JD5V39o",
        "colab_type": "code",
        "outputId": "fe30cb61-d06f-49cc-a2be-10e2a46115d6",
        "colab": {
          "base_uri": "https://localhost:8080/",
          "height": 153
        }
      },
      "source": [
        "batch_size = 128\n",
        "\n",
        "# (batch size, X columns, # output neurons)\n",
        "model = CnnClassifier(batch_size, x_train.shape[1], 5)\n",
        "\n",
        "# Set the model to use the GPU for processing\n",
        "model.cuda()"
      ],
      "execution_count": 90,
      "outputs": [
        {
          "output_type": "execute_result",
          "data": {
            "text/plain": [
              "CnnClassifier(\n",
              "  (input_layer): Conv1d(50669, 128, kernel_size=(1,), stride=(1,))\n",
              "  (max_pooling_layer): MaxPool1d(kernel_size=1, stride=1, padding=0, dilation=1, ceil_mode=False)\n",
              "  (conv_layer): Conv1d(128, 128, kernel_size=(1,), stride=(1,))\n",
              "  (flatten_layer): Flatten()\n",
              "  (linear_layer): Linear(in_features=128, out_features=64, bias=True)\n",
              "  (output_layer): Linear(in_features=64, out_features=5, bias=True)\n",
              ")"
            ]
          },
          "metadata": {
            "tags": []
          },
          "execution_count": 90
        }
      ]
    },
    {
      "cell_type": "code",
      "metadata": {
        "id": "aUyHfoiUV-lY",
        "colab_type": "code",
        "colab": {}
      },
      "source": [
        "def categorical_accuracy(preds, y):\n",
        "    \"\"\"\n",
        "    Returns accuracy per batch, i.e. if you get 8/10 right, this returns 0.8, NOT 8\n",
        "    \"\"\"\n",
        "    max_preds = preds.argmax(dim = 1, keepdim = True) # get the index of the max probability\n",
        "    correct = max_preds.squeeze(1).eq(y)\n",
        "    return (correct.sum() / torch.FloatTensor([y.shape[0]])) / torch.FloatTensor([y.shape[0]])"
      ],
      "execution_count": 0,
      "outputs": []
    },
    {
      "cell_type": "code",
      "metadata": {
        "id": "dn0M201-WBzS",
        "colab_type": "code",
        "outputId": "6a619bb6-485f-431a-ab34-fd470c4238ef",
        "colab": {
          "base_uri": "https://localhost:8080/",
          "height": 34
        }
      },
      "source": [
        "from sklearn.preprocessing import LabelBinarizer\n",
        "indicies=range(5)\n",
        "encoder=LabelBinarizer()\n",
        "labels=encoder.fit_transform(indicies)\n",
        "print(labels[1])"
      ],
      "execution_count": 92,
      "outputs": [
        {
          "output_type": "stream",
          "text": [
            "[0 1 0 0 0]\n"
          ],
          "name": "stdout"
        }
      ]
    },
    {
      "cell_type": "code",
      "metadata": {
        "id": "6fHBy4uQWH46",
        "colab_type": "code",
        "colab": {}
      },
      "source": [
        "def model_loss(model, dataset, train = False, optimizer = None):\n",
        "  # Cycle through the batches and get the average L1 loss\n",
        "  performance = L1Loss()\n",
        "  criterion = CrossEntropyLoss()\n",
        "  avg_loss = 0\n",
        "  avg_accu = 0\n",
        "  count = 0\n",
        "  \n",
        "  for input, output in iter(dataset):\n",
        "    # Get the model's predictions for the training dataset\n",
        "    predictions = model.feed(input)\n",
        "    \n",
        "    # Get the model's loss\n",
        "    loss = performance(predictions, output)\n",
        "    \n",
        "    tmp_accu = categorical_accuracy(predictions, output)\n",
        "    \n",
        "    if(train):\n",
        "      # Clear any errors so they don't cummulate\n",
        "      optimizer.zero_grad()\n",
        "\n",
        "      # Compute the gradients for our optimizer\n",
        "      loss.backward()\n",
        "\n",
        "      # Use the optimizer to update the model's parameters based on the\n",
        "      # gradients\n",
        "      optimizer.step()\n",
        "\n",
        "    # Store the loss and update the counter\n",
        "    avg_loss += loss.item()\n",
        "\n",
        "    # Accumulate performance metrices\n",
        "    avg_accu += tmp_accu.item()\n",
        "    count += 1\n",
        "    \n",
        "  return avg_loss / count, avg_accu / count"
      ],
      "execution_count": 0,
      "outputs": []
    },
    {
      "cell_type": "code",
      "metadata": {
        "id": "LJk4JSEN1msN",
        "colab_type": "code",
        "colab": {}
      },
      "source": [
        "import time\n",
        "\n",
        "def epoch_time(start_time, end_time):\n",
        "    elapsed_time = end_time - start_time\n",
        "    elapsed_mins = int(elapsed_time / 60)\n",
        "    elapsed_secs = int(elapsed_time - (elapsed_mins * 60))\n",
        "    return elapsed_mins, elapsed_secs"
      ],
      "execution_count": 0,
      "outputs": []
    },
    {
      "cell_type": "code",
      "metadata": {
        "id": "J1h_WNIXWMdE",
        "colab_type": "code",
        "outputId": "f3b6ee2b-0ca0-4bae-b140-aa38fc3fd7f9",
        "colab": {
          "base_uri": "https://localhost:8080/",
          "height": 1000
        }
      },
      "source": [
        "epochs = 25\n",
        "\n",
        "\n",
        "optimizer = SGD(model.parameters(), lr=1e-5)\n",
        "#optimizer = Adam(model.parameters())\n",
        "\n",
        "# Convert the training set into torch variables for our model using the GPU\n",
        "# as floats. The reshape is to remove a warning pytorch outputs otherwise.\n",
        "inputs = torch.from_numpy(x_train_np).cuda().float()\n",
        "outputs = torch.from_numpy(y_train_np.reshape(y_train_np.shape[0], 1)).cuda().float()\n",
        "\n",
        "# Create a DataLoader instance to work with our batches\n",
        "tensor = TensorDataset(inputs, outputs)\n",
        "loader = DataLoader(tensor, batch_size, shuffle=True, drop_last=True)\n",
        "\n",
        "# Start the training loop\n",
        "for epoch in range(epochs):\n",
        "  # Cycle through the batches and get the average loss\n",
        "  avg_loss, avg_accu = model_loss(model, loader, train=True, optimizer=optimizer)\n",
        "    \n",
        "  print(\"Epoch \" + str(epoch + 1) + \":\\n\\tLoss = \" + str(avg_loss))\n",
        "  print(\"Accuracy = \" + str(avg_accu))"
      ],
      "execution_count": 94,
      "outputs": [
        {
          "output_type": "stream",
          "text": [
            "/usr/local/lib/python3.6/dist-packages/ipykernel_launcher.py:61: UserWarning: Implicit dimension choice for softmax has been deprecated. Change the call to include dim=X as an argument.\n",
            "/usr/local/lib/python3.6/dist-packages/torch/nn/modules/loss.py:88: UserWarning: Using a target size (torch.Size([128, 1])) that is different to the input size (torch.Size([128, 5])). This will likely lead to incorrect results due to broadcasting. Please ensure they have the same size.\n",
            "  return F.l1_loss(input, target, reduction=self.reduction)\n"
          ],
          "name": "stderr"
        },
        {
          "output_type": "stream",
          "text": [
            "Epoch 1:\n",
            "\tLoss = 1.9036005631737087\n",
            "Accuracy = 0.25883152173913043\n",
            "Epoch 2:\n",
            "\tLoss = 1.8954483918521716\n",
            "Accuracy = 0.261039402173913\n",
            "Epoch 3:\n",
            "\tLoss = 1.8992187769516655\n",
            "Accuracy = 0.25985054347826086\n",
            "Epoch 4:\n",
            "\tLoss = 1.9004755771678428\n",
            "Accuracy = 0.26069972826086957\n",
            "Epoch 5:\n",
            "\tLoss = 1.8991168711496436\n",
            "Accuracy = 0.2593410326086957\n",
            "Epoch 6:\n",
            "\tLoss = 1.9009171465168828\n",
            "Accuracy = 0.2593410326086957\n",
            "Epoch 7:\n",
            "\tLoss = 1.900339707084324\n",
            "Accuracy = 0.2600203804347826\n",
            "Epoch 8:\n",
            "\tLoss = 1.9008152433063672\n",
            "Accuracy = 0.2603600543478261\n",
            "Epoch 9:\n",
            "\tLoss = 1.9022758499435757\n",
            "Accuracy = 0.25985054347826086\n",
            "Epoch 10:\n",
            "\tLoss = 1.9042799109997957\n",
            "Accuracy = 0.2591711956521739\n",
            "Epoch 11:\n",
            "\tLoss = 1.8984035668165788\n",
            "Accuracy = 0.2593410326086957\n",
            "Epoch 12:\n",
            "\tLoss = 1.8992187769516655\n",
            "Accuracy = 0.2591711956521739\n",
            "Epoch 13:\n",
            "\tLoss = 1.9016984053280042\n",
            "Accuracy = 0.258491847826087\n",
            "Epoch 14:\n",
            "\tLoss = 1.9006454141243645\n",
            "Accuracy = 0.25985054347826086\n",
            "Epoch 15:\n",
            "\tLoss = 1.89585600728574\n",
            "Accuracy = 0.2603600543478261\n",
            "Epoch 16:\n",
            "\tLoss = 1.9027513809826062\n",
            "Accuracy = 0.25764266304347827\n",
            "Epoch 17:\n",
            "\tLoss = 1.902038081832554\n",
            "Accuracy = 0.25968070652173914\n",
            "Epoch 18:\n",
            "\tLoss = 1.9042799161828083\n",
            "Accuracy = 0.258491847826087\n",
            "Epoch 19:\n",
            "\tLoss = 1.8998301858487336\n",
            "Accuracy = 0.25985054347826086\n",
            "Epoch 20:\n",
            "\tLoss = 1.898233729860057\n",
            "Accuracy = 0.25968070652173914\n",
            "Epoch 21:\n",
            "\tLoss = 1.9025475849276003\n",
            "Accuracy = 0.25985054347826086\n",
            "Epoch 22:\n",
            "\tLoss = 1.8979619871015134\n",
            "Accuracy = 0.2600203804347826\n",
            "Epoch 23:\n",
            "\tLoss = 1.8992527412331623\n",
            "Accuracy = 0.25985054347826086\n",
            "Epoch 24:\n",
            "\tLoss = 1.9026834446450938\n",
            "Accuracy = 0.25968070652173914\n",
            "Epoch 25:\n",
            "\tLoss = 1.898709255716075\n",
            "Accuracy = 0.2591711956521739\n"
          ],
          "name": "stdout"
        }
      ]
    },
    {
      "cell_type": "code",
      "metadata": {
        "id": "zhMVxVWiWTkQ",
        "colab_type": "code",
        "outputId": "462df320-c1eb-42af-8816-46d58379b492",
        "colab": {
          "base_uri": "https://localhost:8080/",
          "height": 71
        }
      },
      "source": [
        "torch.save(model, '/content/drive/My Drive/1117462_1dconv_reg.ipynb')"
      ],
      "execution_count": 105,
      "outputs": [
        {
          "output_type": "stream",
          "text": [
            "/usr/local/lib/python3.6/dist-packages/torch/serialization.py:360: UserWarning: Couldn't retrieve source code for container of type CnnClassifier. It won't be checked for correctness upon loading.\n",
            "  \"type \" + obj.__name__ + \". It won't be checked \"\n"
          ],
          "name": "stderr"
        }
      ]
    },
    {
      "cell_type": "code",
      "metadata": {
        "id": "Wfg_m_OqWYOr",
        "colab_type": "code",
        "outputId": "46c3d560-7e2d-4468-b8a9-7075540a542e",
        "colab": {
          "base_uri": "https://localhost:8080/",
          "height": 153
        }
      },
      "source": [
        "model = torch.load('/content/drive/My Drive/1117462_1dconv_reg.ipynb')\n",
        "model.eval()"
      ],
      "execution_count": 106,
      "outputs": [
        {
          "output_type": "execute_result",
          "data": {
            "text/plain": [
              "CnnClassifier(\n",
              "  (input_layer): Conv1d(50669, 128, kernel_size=(1,), stride=(1,))\n",
              "  (max_pooling_layer): MaxPool1d(kernel_size=1, stride=1, padding=0, dilation=1, ceil_mode=False)\n",
              "  (conv_layer): Conv1d(128, 128, kernel_size=(1,), stride=(1,))\n",
              "  (flatten_layer): Flatten()\n",
              "  (linear_layer): Linear(in_features=128, out_features=64, bias=True)\n",
              "  (output_layer): Linear(in_features=64, out_features=5, bias=True)\n",
              ")"
            ]
          },
          "metadata": {
            "tags": []
          },
          "execution_count": 106
        }
      ]
    },
    {
      "cell_type": "code",
      "metadata": {
        "id": "Wf9kazJ9Wcko",
        "colab_type": "code",
        "outputId": "9ca1325c-88c6-42fa-8487-e996439ecb98",
        "colab": {
          "base_uri": "https://localhost:8080/",
          "height": 122
        }
      },
      "source": [
        "inputs = torch.from_numpy(x_test_np).cuda().float()\n",
        "outputs = torch.from_numpy(y_test_np.reshape(y_test_np.shape[0], 1)).cuda().float()\n",
        "\n",
        "# Create a DataLoader instance to work with our batches\n",
        "tensor = TensorDataset(inputs, outputs)\n",
        "loader = DataLoader(tensor, batch_size, shuffle=True, drop_last=True)\n",
        "avg_loss, avg_accu = model_loss(model, loader)\n",
        "print(\"The model's L1 loss is: \" + str(avg_loss))\n",
        "print(\"The model's Accuracy is: \" + str(avg_accu))"
      ],
      "execution_count": 97,
      "outputs": [
        {
          "output_type": "stream",
          "text": [
            "/usr/local/lib/python3.6/dist-packages/ipykernel_launcher.py:61: UserWarning: Implicit dimension choice for softmax has been deprecated. Change the call to include dim=X as an argument.\n",
            "/usr/local/lib/python3.6/dist-packages/torch/nn/modules/loss.py:88: UserWarning: Using a target size (torch.Size([128, 1])) that is different to the input size (torch.Size([128, 5])). This will likely lead to incorrect results due to broadcasting. Please ensure they have the same size.\n",
            "  return F.l1_loss(input, target, reduction=self.reduction)\n"
          ],
          "name": "stderr"
        },
        {
          "output_type": "stream",
          "text": [
            "The model's L1 loss is: 1.942343783378601\n",
            "The model's Accuracy is: 0.254296875\n"
          ],
          "name": "stdout"
        }
      ]
    },
    {
      "cell_type": "code",
      "metadata": {
        "id": "juYq-77lIe-O",
        "colab_type": "code",
        "colab": {
          "base_uri": "https://localhost:8080/",
          "height": 51
        },
        "outputId": "7f1cdec1-9ad7-4734-bc9e-f57e27d0f397"
      },
      "source": [
        "from torch.optim import SGD\n",
        "from torch.nn import L1Loss\n",
        "!pip install pytorch-ignite\n",
        "from ignite.metrics import Accuracy, Recall, Precision"
      ],
      "execution_count": 98,
      "outputs": [
        {
          "output_type": "stream",
          "text": [
            "Requirement already satisfied: pytorch-ignite in /usr/local/lib/python3.6/dist-packages (0.3.0)\n",
            "Requirement already satisfied: torch in /usr/local/lib/python3.6/dist-packages (from pytorch-ignite) (1.4.0)\n"
          ],
          "name": "stdout"
        }
      ]
    },
    {
      "cell_type": "code",
      "metadata": {
        "id": "si1TkKchI8hb",
        "colab_type": "code",
        "colab": {
          "base_uri": "https://localhost:8080/",
          "height": 153
        },
        "outputId": "f0308fa2-6c81-4d36-f606-64f426ed13c7"
      },
      "source": [
        "batch_size = 128\n",
        "# (batch size, X columns, Y columns)\n",
        "model = CnnClassifier(batch_size, x_train.shape[1], 5)\n",
        "# Set the model to use the GPU for processing\n",
        "model.cuda()"
      ],
      "execution_count": 99,
      "outputs": [
        {
          "output_type": "execute_result",
          "data": {
            "text/plain": [
              "CnnClassifier(\n",
              "  (input_layer): Conv1d(50669, 128, kernel_size=(1,), stride=(1,))\n",
              "  (max_pooling_layer): MaxPool1d(kernel_size=1, stride=1, padding=0, dilation=1, ceil_mode=False)\n",
              "  (conv_layer): Conv1d(128, 128, kernel_size=(1,), stride=(1,))\n",
              "  (flatten_layer): Flatten()\n",
              "  (linear_layer): Linear(in_features=128, out_features=64, bias=True)\n",
              "  (output_layer): Linear(in_features=64, out_features=5, bias=True)\n",
              ")"
            ]
          },
          "metadata": {
            "tags": []
          },
          "execution_count": 99
        }
      ]
    },
    {
      "cell_type": "code",
      "metadata": {
        "id": "nMGozslmJdP0",
        "colab_type": "code",
        "colab": {}
      },
      "source": [
        "def model_loss(model, dataset, train = False, optimizer = None):\n",
        "  # Cycle through the batches and get the average L1 loss\n",
        "  performance = L1Loss()\n",
        "  accu = Accuracy()\n",
        "  prec = Precision()\n",
        "  rec = Recall()\n",
        "  avg_accu = 0;\n",
        "  avg_rec = 0\n",
        "  avg_prec = 0\n",
        "  avg_loss = 0\n",
        "  count = 0\n",
        "  for input, output in iter(dataset):\n",
        "    # Get the model's predictions for the training dataset\n",
        "    predictions, predictions_ = model.feed(input)\n",
        "    # Get the model's loss using the float returned variable\n",
        "    loss = performance(predictions, output)\n"
      ],
      "execution_count": 0,
      "outputs": []
    },
    {
      "cell_type": "code",
      "metadata": {
        "id": "euFrJUvNJtbh",
        "colab_type": "code",
        "colab": {
          "base_uri": "https://localhost:8080/",
          "height": 129
        },
        "outputId": "ad473b04-cbe8-4d21-80ce-9ad565344d83"
      },
      "source": [
        "    accu.update([predictions_, output])\n",
        "    tmp_accu = accu.compute()\n",
        "    prec.update([predictions_, output])\n",
        "    tmp_prec = prec.compute()\n",
        "    rec.update([predictions_, output])\n",
        "    tmp_rec = rec.compute()\n",
        "    if(train):\n",
        "    # Clear any errors so they don't cummulate\n",
        "      optimizer.zero_grad()\n",
        "    # Compute the gradients for our optimizer\n",
        "      loss.backward()\n",
        "    # Use the optimizer to update the model's parameters based on the gradients\n",
        "      optimizer.step()\n",
        "    # Store the loss and update the counter\n",
        "    avg_loss += loss.item()\n",
        "    # Accumulate performance metrices\n",
        "    avg_accu += tmp_accu\n",
        "    avg_prec += tmp_prec.item()\n",
        "    avg_rec += tmp_rec.item()\n",
        "    count += 1\n",
        "\n",
        "  return avg_loss / count, avg_accu / count, avg_prec / count, avg_rec / count"
      ],
      "execution_count": 104,
      "outputs": [
        {
          "output_type": "error",
          "ename": "IndentationError",
          "evalue": "ignored",
          "traceback": [
            "\u001b[0;36m  File \u001b[0;32m\"<ipython-input-104-620387b6753e>\"\u001b[0;36m, line \u001b[0;32m22\u001b[0m\n\u001b[0;31m    return avg_loss / count, avg_accu / count, avg_prec / count, avg_rec / count\u001b[0m\n\u001b[0m    ^\u001b[0m\n\u001b[0;31mIndentationError\u001b[0m\u001b[0;31m:\u001b[0m unexpected indent\n"
          ]
        }
      ]
    },
    {
      "cell_type": "code",
      "metadata": {
        "id": "ftrEbnhgLFwW",
        "colab_type": "code",
        "colab": {}
      },
      "source": [
        ""
      ],
      "execution_count": 0,
      "outputs": []
    }
  ]
}